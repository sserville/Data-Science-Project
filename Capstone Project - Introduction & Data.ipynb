{
 "cells": [
  {
   "cell_type": "markdown",
   "metadata": {
    "collapsed": true
   },
   "source": [
    "# Capstone Project - Property Prices in Paris"
   ]
  },
  {
   "cell_type": "markdown",
   "metadata": {},
   "source": [
    "<i>By Sebastien Serville, February 2020</i>"
   ]
  },
  {
   "cell_type": "markdown",
   "metadata": {},
   "source": [
    "## Introduction / Business Problem"
   ]
  },
  {
   "cell_type": "markdown",
   "metadata": {},
   "source": [
    "I'm leaving in Paris (France) and as most of the big cities around the World one the biggest concerns for Parisians is to find a place to leave. Apartment and house prices increased by 248% since 2000 (http://www.leparisien.fr/immobilier/10-000-euros-le-m2-a-paris-l-evolution-du-prix-de-l-immobilier-dans-la-capitale-5-graphiques-05-09-2019-8145984.php).\n",
    "The aim of this project is to analyse the prices in Paris boroughs and districts and to identify venues available in each district. We will also look at the impact of the venues on the property prices. This analysis will be helpful for people who want to buy a property in Paris as it will provide the mean price per sqm and the most common venues in the neighborhood. It will help them to select the best locations based on their budget and the type of venues they are interested in (restaurants, museums, parks...). People looking at buying an investment property will also be interested in this analysis so they can buy a property at the best price and in a popular neighborhood."
   ]
  },
  {
   "cell_type": "markdown",
   "metadata": {},
   "source": [
    "## Data"
   ]
  },
  {
   "cell_type": "markdown",
   "metadata": {},
   "source": [
    "To be able to complete this analysis, we will need to get the price of the properties (houses and apartments) recently sold. I decided to use data provided by the French government on the properties sold from 1st January 18 to 30th June 19. Data for the second half of 2019 is not yet available. \n",
    "1. <b>Paris Property Sales data</b> (csv file): It provides a list of properties sold in Paris between January 18 and June 19. Important fields are address, postcode, price, size, latitude, longitude, type of sales - https://www.data.gouv.fr/fr/datasets/5c4ae55a634f4117716d5656/#_\n",
    "2. <b>Paris districts</b> (geojson file): It provides the list of Paris districts with geographical data (central point and polygon) https://www.data.gouv.fr/fr/datasets/arrondissements-1/\n",
    "3. <b>Paris boroughs</b> (geojson file):It provides the list of Paris boroughs with geographical data (central point and polygon) https://www.data.gouv.fr/fr/datasets/quartiers-administratifs/\n",
    "4. <b>Foursquare API</b> for location data: Foursquare provided location based services and they allow developers to get list of venues in a city, district or neighborhood. It will be used in this project to identify the number and type of venues available in a neighborhood - http://www.foursquare.com\n",
    "\n",
    "By analysing and combining this data we will be able to define the mean property prices in Paris districts and to identify the venues that impact the most the prices. "
   ]
  },
  {
   "cell_type": "code",
   "execution_count": null,
   "metadata": {},
   "outputs": [],
   "source": []
  }
 ],
 "metadata": {
  "kernelspec": {
   "display_name": "Python 3.6",
   "language": "python",
   "name": "python3"
  },
  "language_info": {
   "codemirror_mode": {
    "name": "ipython",
    "version": 3
   },
   "file_extension": ".py",
   "mimetype": "text/x-python",
   "name": "python",
   "nbconvert_exporter": "python",
   "pygments_lexer": "ipython3",
   "version": "3.6.9"
  }
 },
 "nbformat": 4,
 "nbformat_minor": 1
}
